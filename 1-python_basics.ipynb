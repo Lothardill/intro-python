{
 "cells": [
  {
   "cell_type": "markdown",
   "metadata": {},
   "source": [
    "# Python Basics – Introduction 🐍\n",
    "\n",
    "Ce notebook propose une révision des bases de Python à travers de petits exercices pratiques.\n",
    "\n",
    "## Objectifs\n",
    "- Manipuler des **variables** et différents **types de données**\n",
    "- Utiliser des **conditions** et **boucles**\n",
    "- Créer des **fonctions** simples\n",
    "- S’exercer sur des cas concrets (calculs, texte, listes)\n",
    "\n",
    "Ce notebook a été **adapté et réécrit** pour être un support pédagogique générique."
   ]
  },
  {
   "cell_type": "markdown",
   "metadata": {},
   "source": [
    "## 1. Variables et types de base\n",
    "\n",
    "Déclarer des variables pour stocker ton prénom, ton âge et ta ville. Afficher-les avec `print()`."
   ]
  },
  {
   "cell_type": "code",
   "execution_count": null,
   "metadata": {},
   "outputs": [],
   "source": [
    "# Exemple :\n",
    "prenom = \"Alice\"\n",
    "age = 25\n",
    "ville = \"Paris\"\n",
    "\n",
    "print(prenom, age, ville)"
   ]
  },
  {
   "cell_type": "markdown",
   "metadata": {},
   "source": [
    "## 2. Conditions\n",
    "\n",
    "Écrire une condition qui :\n",
    "- Affiche \"Majeur\" si l’âge est supérieur ou égal à 18\n",
    "- Affiche \"Mineur\" sinon"
   ]
  },
  {
   "cell_type": "code",
   "execution_count": null,
   "metadata": {},
   "outputs": [],
   "source": [
    "if age >= 18:\n",
    "    print(\"Majeur\")\n",
    "else:\n",
    "    print(\"Mineur\")"
   ]
  },
  {
   "cell_type": "markdown",
   "metadata": {},
   "source": [
    "## 3. Boucles\n",
    "\n",
    "Créer une boucle qui affiche les nombres de 1 à 10 inclus."
   ]
  },
  {
   "cell_type": "code",
   "execution_count": null,
   "metadata": {},
   "outputs": [],
   "source": [
    "for i in range(1, 11):\n",
    "    print(i)"
   ]
  },
  {
   "cell_type": "markdown",
   "metadata": {},
   "source": [
    "## 4. Fonctions\n",
    "\n",
    "Écrire une fonction `carre(x)` qui renvoie le carré d’un nombre.\n",
    "Tester-la sur 2, 5 et 10."
   ]
  },
  {
   "cell_type": "code",
   "execution_count": null,
   "metadata": {},
   "outputs": [],
   "source": [
    "def carre(x):\n",
    "    return x ** 2\n",
    "\n",
    "print(carre(2))\n",
    "print(carre(5))\n",
    "print(carre(10))"
   ]
  },
  {
   "cell_type": "markdown",
   "metadata": {},
   "source": [
    "## 5. Listes et itérations\n",
    "\n",
    "Déclarer une liste de 5 prénoms.\n",
    "Parcourir la liste et affiche chaque prénom en majuscules."
   ]
  },
  {
   "cell_type": "code",
   "execution_count": null,
   "metadata": {},
   "outputs": [],
   "source": [
    "prenoms = [\"Alice\", \"Bob\", \"Chloé\", \"David\", \"Emma\"]\n",
    "\n",
    "for p in prenoms:\n",
    "    print(p.upper())"
   ]
  }
 "nbformat": 4,
 "nbformat_minor": 5
},
  {
   "cell_type": "markdown",
   "metadata": {},
   "source": [
    "## 🎯 Conclusion\n",
    "\n",
    "Dans ce notebook, tu as manipulé :\n",
    "- des variables et types simples\n",
    "- des conditions\n",
    "- des boucles\n",
    "- des fonctions\n",
    "- des listes\n",
    "\n",
    "👉 Ce sont les **fondations** de la programmation Python."
   ]
  }
 ],
 "metadata": {
  "kernelspec": {
   "display_name": "Python 3",
   "language": "python",
   "name": "python3"
  },
  "language_info": {
   "name": "python",
   "version": "3.9"
  }
 },
