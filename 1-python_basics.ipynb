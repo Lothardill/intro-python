{
 "cells": [
  {
   "cell_type": "markdown",
   "id": "08178b85",
   "metadata": {},
   "source": [
    "\n",
    "# Introduction to Python Basics 🐍\n",
    "\n",
    "This notebook is part of your **Python learning repository**.  \n",
    "It comes from Le Wagon exercises but has been **cleaned and adapted** for use in GitHub.\n",
    "\n",
    "---\n",
    "\n",
    "## Contents\n",
    "1. Variables & Types\n",
    "2. Lists & Dictionaries\n",
    "3. Loops & Conditions\n",
    "4. Functions\n",
    "5. Basic Challenges\n",
    "    "
   ]
  },
  {
   "cell_type": "code",
   "execution_count": null,
   "id": "32c1be9f",
   "metadata": {},
   "outputs": [],
   "source": [
    "# Example: Variables in Python\n",
    "x = 5\n",
    "y = 3\n",
    "print(\"Sum:\", x + y)"
   ]
  },
  {
   "cell_type": "code",
   "execution_count": null,
   "id": "e3891798",
   "metadata": {},
   "outputs": [],
   "source": [
    "# Example: Lists\n",
    "fruits = [\"apple\", \"banana\", \"cherry\"]\n",
    "for fruit in fruits:\n",
    "    print(fruit)"
   ]
  },
  {
   "cell_type": "code",
   "execution_count": null,
   "id": "fb5de228",
   "metadata": {},
   "outputs": [],
   "source": [
    "# Example: Function\n",
    "def greet(name):\n",
    "    return f\"Hello, {name}!\"\n",
    "\n",
    "print(greet(\"Lothaire\"))"
   ]
  }
 ],
 "metadata": {},
 "nbformat": 4,
 "nbformat_minor": 5
}
