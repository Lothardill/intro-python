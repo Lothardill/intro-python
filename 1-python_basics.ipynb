{
 "cells": [
  {
   "cell_type": "markdown",
   "metadata": {},
   "source": ["# Test Notebook\\n\\nSi vous voyez ce titre, le rendu GitHub fonctionne ✅."]
  },
  {
   "cell_type": "code",
   "execution_count": null,
   "metadata": {},
   "outputs": [],
   "source": ["print('OK')"]
  }
 ],
 "metadata": {
  "kernelspec": {"display_name": "Python 3", "language": "python", "name": "python3"},
  "language_info": {"name": "python", "version": "3.9"}
 },
 "nbformat": 4,
 "nbformat_minor": 5
}
